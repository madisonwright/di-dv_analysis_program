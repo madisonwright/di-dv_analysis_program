{
 "cells": [
  {
   "cell_type": "code",
   "execution_count": 1,
   "metadata": {
    "collapsed": false,
    "deletable": true,
    "editable": true
   },
   "outputs": [],
   "source": [
    "#all imports\n",
    "import math as m\n",
    "import numpy as np\n",
    "import pandas as pd"
   ]
  },
  {
   "cell_type": "code",
   "execution_count": 65,
   "metadata": {
    "collapsed": false,
    "deletable": true,
    "editable": true
   },
   "outputs": [],
   "source": [
    "#Define my class with all the information collected from each point\n",
    "\n",
    "class Points():\n",
    "    \n",
    "    def __init__(self, params):\n",
    "        self.name = params[0]\n",
    "        self.x = int(params[5])\n",
    "        self.y = int(params[6])\n",
    "        self.x_drift = int(params[3])\n",
    "        self.y_drift = int(params[4])\n",
    "        self.group = params[7]\n",
    "        self.explosion = params[8]\n",
    "\n",
    "        if params[9] == \"minimal\":\n",
    "            self.noise = 0\n",
    "        elif params[9] == \"little\":\n",
    "            self.noise = 1\n",
    "        elif params[9] == \"a bit\":\n",
    "            self.noise = 2\n",
    "        else:\n",
    "            self.noise = 3\n",
    "\n",
    "        self.pot_diff = (float(params[10]),float(params[11]))\n",
    "        self.peaks = []\n",
    "\n",
    "        leftovers = params[12::]\n",
    "        for i in range(len(leftovers)):\n",
    "            if leftovers[i] != '':\n",
    "                self.peaks.append(float(leftovers[i]))\n",
    "\n",
    "    def __repr__(self):\n",
    "        return \"Point \" + self.name + \" at position \" + '(' + str(self.x) +','+ str(self.y) + ')' + \" with peaks \" + str(self.peaks)\n",
    "    \n",
    "    def __str__(self):\n",
    "        return \"Point \" + self.name\n",
    "    \n",
    "    def info(self):\n",
    "        print( self.name + \"\\n\" + \"Position: \" + '(' + str(self.x) +','+ str(self.y) + ')' + '\\n' + \"Peaks: \" + str(self.peaks) + '\\n' + \"Drift(x,y): \" + '(' + str(self.x_drift) +','+ str(self.y_drift) + ')' + \"   Noise level: \" +str(self.noise) + \"\\n\" + \"Potential difference: \" + str(self.pot_diff) + '\\n' + \"Explosion: \" + self.explosion + \"   Group: \" + self.group + '\\n' )\n",
    "        return\n",
    "    \n",
    "            #to use later when implementing a data submission form\n",
    "            #self.x_original = params[1]     \n",
    "            #self.y_original = params[2]\n",
    "            #self.x = self.x_original - self.x_drift\n",
    "            #self.y = self.y_original - self.y_drift\n"
   ]
  },
  {
   "cell_type": "code",
   "execution_count": 67,
   "metadata": {
    "collapsed": false,
    "deletable": true,
    "editable": true
   },
   "outputs": [
    {
     "name": "stdout",
     "output_type": "stream",
     "text": [
      "length of samples list:  127\n",
      "print(test) -->  Point 29_492\n",
      "test.info() --> see below \n",
      "\n",
      "29_492\n",
      "Position: (851,2155)\n",
      "Peaks: [0.7]\n",
      "Drift(x,y): (-4,-37)   Noise level: 0\n",
      "Potential difference: (0.0, 0.8)\n",
      "Explosion: pre+   Group: 19\n",
      "\n"
     ]
    }
   ],
   "source": [
    "#open file\n",
    "\n",
    "#with open(\"Peak_data.xlsx\") as file:\n",
    "#    for line in file:\n",
    "#        line_ascii = line.decode(\"ascii\")\n",
    "\n",
    "#file = pd.read_excel(\"Peak_data.xlsx\")\n",
    "#df.head()\n",
    "\n",
    "#file = open(\"Peak_data.csv\")\n",
    "#for line in file:\n",
    "#    print(line)\n",
    "\n",
    "\n",
    "\n",
    "\n",
    "samples = []\n",
    "\n",
    "with open(\"Peak_data.csv\") as file:\n",
    "    for line in file:\n",
    "        data = line.strip().split(',')\n",
    "        try:\n",
    "            if data[0][2] == '_':\n",
    "                samples.append(Points(data))\n",
    "        except:\n",
    "            IndexError\n",
    "\n",
    "            \n",
    "            \n",
    "#Testing out my imported data\n",
    "print(\"length of samples list: \",len(samples))\n",
    "test = samples[33]\n",
    "print(\"print(test) --> \",test)\n",
    "print(\"test.info() --> see below\",'\\n')\n",
    "test.info()"
   ]
  },
  {
   "cell_type": "code",
   "execution_count": 69,
   "metadata": {
    "collapsed": false,
    "deletable": true,
    "editable": true
   },
   "outputs": [],
   "source": [
    "#Alloted for Graphing"
   ]
  },
  {
   "cell_type": "code",
   "execution_count": 68,
   "metadata": {
    "collapsed": true,
    "deletable": true,
    "editable": true
   },
   "outputs": [],
   "source": [
    "#Alloted for GUI"
   ]
  },
  {
   "cell_type": "code",
   "execution_count": 74,
   "metadata": {
    "collapsed": true
   },
   "outputs": [],
   "source": [
    "#Alloted for data storage"
   ]
  },
  {
   "cell_type": "code",
   "execution_count": 71,
   "metadata": {
    "collapsed": true
   },
   "outputs": [],
   "source": [
    "#Alloted for data submission"
   ]
  },
  {
   "cell_type": "code",
   "execution_count": 72,
   "metadata": {
    "collapsed": true
   },
   "outputs": [],
   "source": [
    "#Alloted for testing"
   ]
  },
  {
   "cell_type": "code",
   "execution_count": 73,
   "metadata": {
    "collapsed": true
   },
   "outputs": [],
   "source": [
    "#Alloted for testing"
   ]
  },
  {
   "cell_type": "code",
   "execution_count": null,
   "metadata": {
    "collapsed": true
   },
   "outputs": [],
   "source": []
  }
 ],
 "metadata": {
  "kernelspec": {
   "display_name": "Python 3",
   "language": "python",
   "name": "python3"
  },
  "language_info": {
   "codemirror_mode": {
    "name": "ipython",
    "version": 3
   },
   "file_extension": ".py",
   "mimetype": "text/x-python",
   "name": "python",
   "nbconvert_exporter": "python",
   "pygments_lexer": "ipython3",
   "version": "3.5.0"
  }
 },
 "nbformat": 4,
 "nbformat_minor": 2
}
