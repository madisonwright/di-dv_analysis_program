{
 "cells": [
  {
   "cell_type": "markdown",
   "metadata": {
    "deletable": true,
    "editable": true
   },
   "source": [
    "# Intro to Python Homework\n",
    "\n",
    "<br/>\n",
    "<font color='red'>Send via slack direct message to Zach by 1 pm on FRIDAY 4/14.</font>"
   ]
  },
  {
   "cell_type": "markdown",
   "metadata": {
    "deletable": true,
    "editable": true
   },
   "source": [
    "+ Write a line of code that stores the value of the $atan(5)$ in the variable `y`."
   ]
  },
  {
   "cell_type": "code",
   "execution_count": null,
   "metadata": {
    "collapsed": true,
    "deletable": true,
    "editable": true
   },
   "outputs": [],
   "source": [
    "y =atan(5)"
   ]
  },
  {
   "cell_type": "markdown",
   "metadata": {
    "deletable": true,
    "editable": true
   },
   "source": [
    "+ In words, what the `math.ceil` and `math.floor` functions do?"
   ]
  },
  {
   "cell_type": "code",
   "execution_count": null,
   "metadata": {
    "collapsed": true,
    "deletable": true,
    "editable": true
   },
   "outputs": [],
   "source": [
    "math.ceil: returns the smallest integer value greater than x.\n",
    "math.floor: the largest integer value smaller than x."
   ]
  },
  {
   "cell_type": "markdown",
   "metadata": {
    "deletable": true,
    "editable": true
   },
   "source": [
    "+ Store the result of $5x^{4} - 3x^{2} + 0.5x - 20$ in the variable `y`, where $x$ is 2."
   ]
  },
  {
   "cell_type": "code",
   "execution_count": null,
   "metadata": {
    "collapsed": true,
    "deletable": true,
    "editable": true
   },
   "outputs": [],
   "source": [
    "x = 2\n",
    "y = 5*(x**4)-3*(x**2)+.5*x-20"
   ]
  },
  {
   "cell_type": "markdown",
   "metadata": {
    "deletable": true,
    "editable": true
   },
   "source": [
    "+ Construct a conditional that prints $x$ if it is smaller than 20 but greater than -5"
   ]
  },
  {
   "cell_type": "code",
   "execution_count": null,
   "metadata": {
    "collapsed": true,
    "deletable": true,
    "editable": true
   },
   "outputs": [],
   "source": [
    "if x<20 and x>5:\n",
    "    print(x)"
   ]
  },
  {
   "cell_type": "markdown",
   "metadata": {
    "deletable": true,
    "editable": true
   },
   "source": [
    "+ Construct a conditional that prints $x$ if it not between 5 and 12."
   ]
  },
  {
   "cell_type": "code",
   "execution_count": null,
   "metadata": {
    "collapsed": true,
    "deletable": true,
    "editable": true
   },
   "outputs": [],
   "source": [
    "if x<5 and x>12:\n",
    "    print(x)"
   ]
  },
  {
   "cell_type": "markdown",
   "metadata": {
    "deletable": true,
    "editable": true
   },
   "source": [
    "+ What will the following code print? (Don't just copy and paste -- reason through it!)\n",
    "\n",
    "![.](https://github.com/harmsm/pythonic-science/raw/master/practicum/01_starting/complicated-conditional.png)"
   ]
  },
  {
   "cell_type": "code",
   "execution_count": null,
   "metadata": {
    "collapsed": true,
    "deletable": true,
    "editable": true
   },
   "outputs": [],
   "source": [
    "it will print \"c\""
   ]
  },
  {
   "cell_type": "markdown",
   "metadata": {
    "deletable": true,
    "editable": true
   },
   "source": [
    "+ Write a loop that prints every 5th number between 1 and 2000. (HINT: try `help(range)`)"
   ]
  },
  {
   "cell_type": "code",
   "execution_count": null,
   "metadata": {
    "collapsed": true,
    "deletable": true,
    "editable": true
   },
   "outputs": [],
   "source": [
    "for i in range(1,2001,5):\n",
    "    print(5)"
   ]
  },
  {
   "cell_type": "markdown",
   "metadata": {
    "deletable": true,
    "editable": true
   },
   "source": [
    "+ What will the following program print out?\n",
    "\n",
    "![.](https://github.com/harmsm/pythonic-science/raw/master/practicum/01_starting/conditional-loop.png)"
   ]
  },
  {
   "cell_type": "code",
   "execution_count": null,
   "metadata": {
    "collapsed": true,
    "deletable": true,
    "editable": true
   },
   "outputs": [],
   "source": [
    "0,1,2,3,4,5,6,7,8,9,-10,-11,-12.....and so on until.....-99"
   ]
  },
  {
   "cell_type": "markdown",
   "metadata": {
    "deletable": true,
    "editable": true
   },
   "source": [
    "+ Write a loop that calculates a Riemann sum for $x^2$ for $x \\in [-5,5]$."
   ]
  },
  {
   "cell_type": "code",
   "execution_count": null,
   "metadata": {
    "collapsed": true,
    "deletable": true,
    "editable": true
   },
   "outputs": [],
   "source": [
    "for i in range(-6,6):\n",
    "  sum += (i**2)*(i-(i-1))"
   ]
  },
  {
   "cell_type": "markdown",
   "metadata": {
    "deletable": true,
    "editable": true
   },
   "source": [
    "+ Create a list of all integers between 2 and 30."
   ]
  },
  {
   "cell_type": "code",
   "execution_count": 3,
   "metadata": {
    "collapsed": false,
    "deletable": true,
    "editable": true
   },
   "outputs": [
    {
     "name": "stdout",
     "output_type": "stream",
     "text": [
      "[2, 3, 4, 5, 6, 7, 8, 9, 10, 11, 12, 13, 14, 15, 16, 17, 18, 19, 20, 21, 22, 23, 24, 25, 26, 27, 28, 29, 30]\n"
     ]
    }
   ],
   "source": [
    "list_a = []\n",
    "for i in range(2,31):\n",
    "    list_a.append(i)"
   ]
  },
  {
   "cell_type": "markdown",
   "metadata": {
    "deletable": true,
    "editable": true
   },
   "source": [
    "+ Create a list called **some_list** that has all `sin(x)` for `x` $\\in$ [$0$, $\\pi/4$, $\\pi /2$, $3 \\pi /4$... $2 \\pi$]."
   ]
  },
  {
   "cell_type": "code",
   "execution_count": 15,
   "metadata": {
    "collapsed": false,
    "deletable": true,
    "editable": true
   },
   "outputs": [
    {
     "name": "stdout",
     "output_type": "stream",
     "text": [
      "[0.0, 0.7071067811865475, 1.0, 0.7071067811865476, 1.2246467991473532e-16, -0.7071067811865475, -1.0, -0.7071067811865477, -2.4492935982947064e-16]\n"
     ]
    }
   ],
   "source": [
    "import math as m\n",
    "some_list = []\n",
    "for i in range(0,9):\n",
    "    some_list.append(m.sin(i*(m.pi/4)))"
   ]
  },
  {
   "cell_type": "markdown",
   "metadata": {
    "deletable": true,
    "editable": true
   },
   "source": [
    " \n",
    "+ Create a list called **some_list** from -100 to 0 and then replace every even number with its positive value. (You'll want to use the (modulo operator)[https://stackoverflow.com/questions/4432208/how-does-work-in-python]). The output should look like:\n",
    "\n",
    "```python\n",
    "print(some_list)\n",
    "\n",
    "[100,-99,98,-97,96,...,0]\n",
    "```"
   ]
  },
  {
   "cell_type": "code",
   "execution_count": 16,
   "metadata": {
    "collapsed": false,
    "deletable": true,
    "editable": true
   },
   "outputs": [
    {
     "name": "stdout",
     "output_type": "stream",
     "text": [
      "[10, -9, 8, -7, 6, -5, 4, -3, 2, -1]\n"
     ]
    }
   ],
   "source": [
    "some_list = []\n",
    "for i in range(-100,0):\n",
    "    if i%2 == 0:\n",
    "        some_list.append(-i)\n",
    "    else:\n",
    "        some_list.append(i)"
   ]
  },
  {
   "cell_type": "markdown",
   "metadata": {
    "deletable": true,
    "editable": true
   },
   "source": [
    "+ Write a loop that creates a dictionary that uses the letters A-E as keys to the values 0-4."
   ]
  },
  {
   "cell_type": "code",
   "execution_count": 17,
   "metadata": {
    "collapsed": false,
    "deletable": true,
    "editable": true
   },
   "outputs": [
    {
     "name": "stdout",
     "output_type": "stream",
     "text": [
      "{'B': 1, 'D': 3, 'A': 0, 'C': 2, 'E': 4}\n"
     ]
    }
   ],
   "source": [
    "dict = {}\n",
    "dict['A'] = 0\n",
    "dict['B'] = 1\n",
    "dict['C'] = 2\n",
    "dict['D'] = 3\n",
    "dict['E'] = 4"
   ]
  },
  {
   "cell_type": "markdown",
   "metadata": {
    "deletable": true,
    "editable": true
   },
   "source": [
    "+ Create a $3 \\times 3$ numpy array with the integers 0-8:\n",
    "\n",
    "  ```python\n",
    "    [[0,1,2],\n",
    "     [3,4,5],\n",
    "     [6,7,8]]\n",
    "  ```\n",
    "  Multiply the whole array by 5 and then take the natural log of all values (elementwise).  What is the sum of the right-most column?"
   ]
  },
  {
   "cell_type": "code",
   "execution_count": null,
   "metadata": {
    "collapsed": true,
    "deletable": true,
    "editable": true
   },
   "outputs": [],
   "source": [
    "import numpy as n\n",
    "import math as m\n",
    "n_array = n.array([[0,1,2],[3,4,5],[6,7,8]],dtype=int)\n",
    "n_array = n.log(n_array*5)\n",
    "print(n_array)\n",
    "sum = n.sum(n.log(n_array[:,2]))\n",
    "print(sum)"
   ]
  },
  {
   "cell_type": "markdown",
   "metadata": {
    "deletable": true,
    "editable": true
   },
   "source": [
    "+ Repeat the exercise above using a numpy array.  Use a numpy array to calcualte all `sin(x)` for `x` $\\in$ [$0$, $\\pi/4$, $\\pi /2$, $3 \\pi /4$... $2 \\pi$]."
   ]
  },
  {
   "cell_type": "code",
   "execution_count": null,
   "metadata": {
    "collapsed": true,
    "deletable": true,
    "editable": true
   },
   "outputs": [],
   "source": [
    "import numpy as n\n",
    "import math as m\n",
    "n_array = n.array([0,m.pi/4,m.pi/2,3*m.pi/4,m.pi,5*m.pi/4,3*m.pi/2,7*m.pi/4,2*m.pi],dtype=float)\n",
    "sin_array = n.zeros(len(n_array),dtype=float)\n",
    "for i in range(len(n_array)):\n",
    "    sin_array[i] = m.sin(n_array[i])\n",
    "print(sin_array)"
   ]
  },
  {
   "cell_type": "markdown",
   "metadata": {
    "deletable": true,
    "editable": true
   },
   "source": [
    "+ Write a function that takes a string and returns it in all uppercase. (Hint, google this one)"
   ]
  },
  {
   "cell_type": "code",
   "execution_count": null,
   "metadata": {
    "collapsed": true,
    "deletable": true,
    "editable": true
   },
   "outputs": [],
   "source": [
    "def uppercase(x):\n",
    "    x_cap = x.upper()\n",
    "    return x_cap"
   ]
  },
  {
   "cell_type": "markdown",
   "metadata": {
    "deletable": true,
    "editable": true
   },
   "source": [
    "+ Use `matplotlib` to plot $sin(x)$ for `x` $\\in$ [$0$, $\\pi/4$, $\\pi /2$, $3 \\pi /4$... $2 \\pi$].  Use both orange points and a green line."
   ]
  },
  {
   "cell_type": "code",
   "execution_count": 3,
   "metadata": {
    "collapsed": false,
    "deletable": true,
    "editable": true,
    "scrolled": true
   },
   "outputs": [
    {
     "data": {
      "image/png": "[encoded data removed]",
      "text/plain": [
       "<matplotlib.figure.Figure at 0x6803470>"
      ]
     },
     "metadata": {},
     "output_type": "display_data"
    }
   ],
   "source": [
    "import matplotlib.pyplot as mat\n",
    "import math as m\n",
    "\n",
    "mat.plot([0,m.pi/4,m.pi/2,3*m.pi/4,m.pi,5*m.pi/4,3*m.pi/2,7*m.pi/4,2*m.pi],[m.sin(0),m.sin(m.pi/4),m.sin(m.pi/2),m.sin(3*m.pi/4),m.sin(m.pi),m.sin(5*m.pi/4),m.sin(3*m.pi/2),m.sin(7*m.pi/4),m.sin(2*m.pi)])\n",
    "mat.show()"
   ]
  },
  {
   "cell_type": "markdown",
   "metadata": {
    "deletable": true,
    "editable": true
   },
   "source": [
    "You measure the doubling times of bacterial strains A-D under identical conditions.  \n",
    "\n",
    "| strain | doubling time (min) | \n",
    "|:------:|:-------------------:|\n",
    "|  A     | 20                  |\n",
    "|  B     | 25                  |\n",
    "|  C     | 39                  |\n",
    "|  D     | 53                  |\n",
    "\n",
    "Assuming you start with a single cell and have nutrients in excess, you can calculate the number of bacteria $N(t)$ in a culture after $t$ minutes according to: \n",
    "\n",
    " $$N(t) = 2^{t/d}$$\n",
    "\n",
    "\n",
    " + Write a function called **num_bacteria** that takes the time and doubling time and returns the number of bacteria present. "
   ]
  },
  {
   "cell_type": "code",
   "execution_count": null,
   "metadata": {
    "collapsed": true,
    "deletable": true,
    "editable": true
   },
   "outputs": [],
   "source": [
    "def num_bacteria(time,doubling):\n",
    "    bacteria = 2**(time/doubling)\n",
    "    return bacteria"
   ]
  },
  {
   "cell_type": "markdown",
   "metadata": {
    "deletable": true,
    "editable": true
   },
   "source": [
    " + Create a dictionary called **doubling** that keys the name of each strain to its population after 12 hours."
   ]
  },
  {
   "cell_type": "code",
   "execution_count": null,
   "metadata": {
    "collapsed": true,
    "deletable": true,
    "editable": true
   },
   "outputs": [],
   "source": [
    "doubling = {}\n",
    "t = 12\n",
    "doubling('A') = num_bacteria(t,20)\n",
    "doubline('B') = num_bacteria(t,25)\n",
    "doubling('C') = num_bacteria(t,39)\n",
    "doubling('D') = num_bacteria(t,53)"
   ]
  },
  {
   "cell_type": "markdown",
   "metadata": {
    "collapsed": true,
    "deletable": true,
    "editable": true
   },
   "source": [
    " + Use `matplotlib` to create a single graph that shows $N(t)$ for all four bacterial strains from 0 to 18 hr.  Make sure you label your axes appropriately. "
   ]
  },
  {
   "cell_type": "code",
   "execution_count": 18,
   "metadata": {
    "collapsed": false,
    "deletable": true,
    "editable": true
   },
   "outputs": [
    {
     "data": {
      "image/png": "[encoded data removed]",
      "text/plain": [
       "<matplotlib.figure.Figure at 0x161c4d0>"
      ]
     },
     "metadata": {},
     "output_type": "display_data"
    }
   ],
   "source": [
    "import matplotlib.pyplot as mat\n",
    "import math as m\n",
    "\n",
    "def num_bacteria(time,doubling):\n",
    "    bacteria = 2**(time/doubling)\n",
    "    return bacteria\n",
    "y_list = []\n",
    "y_list2 = []\n",
    "y_list3 = []\n",
    "y_list4 = []\n",
    "x_list = []\n",
    "\n",
    "for i in range(19):\n",
    "    x_list.append(i)\n",
    "    y_list.append(num_bacteria(i,20))\n",
    "    y_list2.append(num_bacteria(i,25))\n",
    "    y_list3.append(num_bacteria(i,39))\n",
    "    y_list4.append(num_bacteria(i,53))\n",
    "\n",
    "\n",
    "mat.plot(x_list,y_list,label=\"A\")\n",
    "mat.plot(x_list,y_list2,label=\"B\")\n",
    "mat.plot(x_list,y_list3,label=\"C\")\n",
    "mat.plot(x_list,y_list4,label=\"D\")\n",
    "\n",
    "mat.title(\"Strain Doubling Rates\")\n",
    "mat.xlabel('Hours')\n",
    "mat.ylabel('Bacteria number')\n",
    "mat.legend(bbox_to_anchor=(1.05, 1), loc=2, borderaxespad=0.)\n",
    "mat.show()"
   ]
  },
  {
   "cell_type": "code",
   "execution_count": null,
   "metadata": {
    "collapsed": true
   },
   "outputs": [],
   "source": []
  }
 ],
 "metadata": {
  "kernelspec": {
   "display_name": "Python 3",
   "language": "python",
   "name": "python3"
  },
  "language_info": {
   "codemirror_mode": {
    "name": "ipython",
    "version": 3
   },
   "file_extension": ".py",
   "mimetype": "text/x-python",
   "name": "python",
   "nbconvert_exporter": "python",
   "pygments_lexer": "ipython3",
   "version": "3.5.0"
  }
 },
 "nbformat": 4,
 "nbformat_minor": 1
}
