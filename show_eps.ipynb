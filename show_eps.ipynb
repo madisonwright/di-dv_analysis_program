{
 "cells": [
  {
   "cell_type": "code",
   "execution_count": 103,
   "metadata": {
    "collapsed": false,
    "deletable": true,
    "editable": true
   },
   "outputs": [],
   "source": [
    "import matplotlib.pylab as plt\n",
    "import matplotlib.image as mpimg\n",
    "from ipywidgets import widgets, interact, interactive, fixed, interact_manual\n",
    "from IPython.display import display\n",
    "from IPython.display import clear_output\n",
    "import warnings\n",
    "import glob\n",
    "%matplotlib inline"
   ]
  },
  {
   "cell_type": "code",
   "execution_count": 104,
   "metadata": {
    "collapsed": false
   },
   "outputs": [],
   "source": [
    "#Load eps files\n",
    "locks = []\n",
    "currents = []\n",
    "\n",
    "for filename in glob.glob('*_lock.eps'):\n",
    "    locks.append(filename)\n",
    "for filename in glob.glob('*_current.eps'):\n",
    "    currents.append(filename) \n"
   ]
  },
  {
   "cell_type": "code",
   "execution_count": 126,
   "metadata": {
    "collapsed": false,
    "deletable": true,
    "editable": true
   },
   "outputs": [],
   "source": [
    "#Plot eps files\n",
    "def plot_eps(list_1,list_2,name_1,name_2):\n",
    "\n",
    "    #fig.set_size_inches(16.5,8.5)     #18.5, 10.5)\n",
    "    count = 0\n",
    "    while count != 1:\n",
    "        for file in list_1:\n",
    "            if file.endswith(name_1):\n",
    "                fig = plt.figure(figsize = (11,7))\n",
    "                plt.title('%s' % str(file))\n",
    "                img = mpimg.imread(file)\n",
    "                imgplot = plt.imshow(img)\n",
    "                plt.show()\n",
    "                count = 1\n",
    "        break\n",
    "\n",
    "\n",
    "    while count != 2:\n",
    "        for file in list_2:\n",
    "            if file.endswith(name_2):\n",
    "                fig2 = plt.figure(figsize = (11,7))\n",
    "                plt.title('%s'% str(file))\n",
    "                img = mpimg.imread(file)\n",
    "                imgplot = plt.imshow(img)\n",
    "                plt.show()\n",
    "                count = 2\n",
    "        break\n",
    "\n",
    "    if count == 0:\n",
    "        print('No di/dv by the names: ',name_1,' ',name_2)\n",
    "        return False\n",
    "    else:\n",
    "        return True\n",
    "    \n",
    "    return True"
   ]
  },
  {
   "cell_type": "code",
   "execution_count": 127,
   "metadata": {
    "collapsed": false
   },
   "outputs": [],
   "source": [
    "#Topo Backend\n",
    "\n",
    "recent_epss = []\n",
    "\n",
    "def recents(list1,nam1,nam2):\n",
    "    recent_epss = list1\n",
    "    if len(recent_epss) < 11:\n",
    "        recent_epss.append((nam1,nam2))\n",
    "    else:\n",
    "        recent_epss = recent_topos[1::]\n",
    "        recent_epss.append((nam1,nam2))\n",
    "        \n",
    "    print(\"Recent Eps Searches;\")\n",
    "    for i in range(len(recent_epss)):\n",
    "        print(recent_epss[-i])\n",
    "\n",
    "def eps_display(sender):\n",
    "    name1 = eps.value + '_lock.eps'\n",
    "    name2 = eps.value + '_current.eps'\n",
    "    res = plot_eps(locks,currents,name1,name2)\n",
    "    if res != False:\n",
    "        recents(recent_epss,name1,name2)\n",
    "    return\n",
    "\n",
    "def refine6(val):\n",
    "    clear_output()\n",
    "    return"
   ]
  },
  {
   "cell_type": "code",
   "execution_count": 128,
   "metadata": {
    "collapsed": false
   },
   "outputs": [],
   "source": [
    "#Topo Frontend\n",
    "\n",
    "eps = widgets.Text()\n",
    "reset = widgets.Button(description='Reset',button_style='warning')\n",
    "\n",
    "display(widgets.HBox((eps,reset)))\n",
    "\n",
    "eps.on_submit(eps_display)\n",
    "reset.on_click(refine6)"
   ]
  },
  {
   "cell_type": "markdown",
   "metadata": {
    "collapsed": true,
    "deletable": true,
    "editable": true
   },
   "source": []
  }
 ],
 "metadata": {
  "kernelspec": {
   "display_name": "Python 3",
   "language": "python",
   "name": "python3"
  },
  "language_info": {
   "codemirror_mode": {
    "name": "ipython",
    "version": 3
   },
   "file_extension": ".py",
   "mimetype": "text/x-python",
   "name": "python",
   "nbconvert_exporter": "python",
   "pygments_lexer": "ipython3",
   "version": "3.5.0"
  }
 },
 "nbformat": 4,
 "nbformat_minor": 2
}
